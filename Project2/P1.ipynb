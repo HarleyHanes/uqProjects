{
 "cells": [
  {
   "cell_type": "code",
   "execution_count": 101,
   "id": "hourly-listing",
   "metadata": {},
   "outputs": [],
   "source": [
    "import numpy as np\n",
    "from scipy.integrate import odeint\n",
    "from scipy.optimize import curve_fit\n",
    "from scipy.optimize import differential_evolution\n",
    "%matplotlib inline\n",
    "import matplotlib.pyplot as plt\n",
    "from matplotlib.backends.backend_pdf import PdfPages\n",
    "from scipy.interpolate import interp1d"
   ]
  },
  {
   "cell_type": "code",
   "execution_count": 102,
   "id": "another-argentina",
   "metadata": {},
   "outputs": [
    {
     "name": "stdout",
     "output_type": "stream",
     "text": [
      "Al parameters =  [-1.84144546e+01  1.91427253e-03]\n",
      "[[ 1.93887739e-02 -1.87339624e-06]\n",
      " [-1.87339624e-06  1.94029479e-10]]\n"
     ]
    }
   ],
   "source": [
    "xdata = [10,14,18,22,26,30,34,38,42,46,50,54,58,62,66]\n",
    "tdata = [66.04,60.04,54.81,50.42,46.74,43.66,40.76,38.49,36.42,34.77,33.18,32.36,31.56,30.91,30.56]\n",
    "tdata_test = [96.14,80.12,67.66,57.96,50.90,44.84,39.75,36.16,33.31,31.15,29.28,27.88,27.18,26.40,25.86]\n",
    "x = np.asarray((xdata))\n",
    "\n",
    "def dp_c(x,p,g,k,h):\n",
    "    return np.imag(Ts(x,p+1j*h,g))/h\n",
    "\n",
    "def dg_c(x,p,g,k,h):\n",
    "    return np.imag(Ts(x,p,g+1j*h))/h\n",
    "\n",
    "def sensmat(xdata,p,g):\n",
    "    k = 2.37\n",
    "    h = 1e-13\n",
    "    return np.column_stack((dp_c(xdata,p,g,k,h),dg_c(xdata,p,g,k,h)))\n",
    "\n",
    "\n",
    "def Ts(x,p,h):\n",
    "    k = 2.37\n",
    "    L = 70\n",
    "    a = b = 0.95\n",
    "    Ta = 21.29\n",
    "    y = np.sqrt(2*(a+b)*h/(a*b*k))\n",
    "    c1 = -p/(k*y)*np.exp(y*L)*(h+k*y)/(np.exp(-y*L)*(h-k*y)+np.exp(y*L)*(h+k*y))\n",
    "    c2 = p/(k*y) + c1\n",
    "    return c1*np.exp(-y*x) + c2*np.exp(y*x) + Ta\n",
    "\n",
    "popt, covt = curve_fit(Ts, xdata, tdata_test, [-18.41,0.00191], maxfev=5000, gtol=0.001)\n",
    "print(\"Al parameters = \", popt)\n",
    "print(covt)"
   ]
  },
  {
   "cell_type": "code",
   "execution_count": 103,
   "id": "boxed-gateway",
   "metadata": {},
   "outputs": [
    {
     "name": "stdout",
     "output_type": "stream",
     "text": [
      "sigma2 =  3200.2892651013112  wat\n",
      "[[ 2.10404664e-02 -2.02917075e-06]\n",
      " [-2.02917075e-06  2.09782059e-10]]\n"
     ]
    }
   ],
   "source": [
    "khi = np.asmatrix(sensmat(x,-18.41,0.00191))\n",
    "khi_t = np.transpose(khi)\n",
    "multi = khi_t*khi\n",
    "R = np.transpose(np.asmatrix(tdata_test)) - khi*np.transpose(np.asmatrix(popt))\n",
    "sigma2 = float(1/13*np.transpose(R)*R)\n",
    "print(\"sigma2 = \", sigma2, \" wat\")\n",
    "\n",
    "inv = np.linalg.inv(multi)\n",
    "print(0.0627*inv)"
   ]
  },
  {
   "cell_type": "code",
   "execution_count": 104,
   "id": "competitive-forum",
   "metadata": {},
   "outputs": [
    {
     "name": "stdout",
     "output_type": "stream",
     "text": [
      "Cu parameters =  [-5.68037420e+00  7.85619322e-04]\n",
      "[[ 1.43956088e-03 -1.87084406e-07]\n",
      " [-1.87084406e-07  2.62785086e-11]]\n"
     ]
    }
   ],
   "source": [
    "# FOR COPPER\n",
    "\n",
    "popt, covt = curve_fit(Ts, xdata, tdata, [-18,0.001], maxfev=5000, gtol=0.001)\n",
    "print(\"Cu parameters = \", popt)\n",
    "print(covt)"
   ]
  },
  {
   "cell_type": "code",
   "execution_count": null,
   "id": "promotional-colon",
   "metadata": {},
   "outputs": [],
   "source": []
  }
 ],
 "metadata": {
  "kernelspec": {
   "display_name": "Python 3",
   "language": "python",
   "name": "python3"
  },
  "language_info": {
   "codemirror_mode": {
    "name": "ipython",
    "version": 3
   },
   "file_extension": ".py",
   "mimetype": "text/x-python",
   "name": "python",
   "nbconvert_exporter": "python",
   "pygments_lexer": "ipython3",
   "version": "3.7.4"
  }
 },
 "nbformat": 4,
 "nbformat_minor": 5
}
